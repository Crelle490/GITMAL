{
 "cells": [
  {
   "cell_type": "markdown",
   "id": "26fe9c4e",
   "metadata": {},
   "source": [
    "# SWMAL\n",
    "\n",
    "## Jupyter Notebook WIKI"
   ]
  },
  {
   "cell_type": "markdown",
   "id": "191a5d7f",
   "metadata": {},
   "source": [
    "### Check Exitsing Versions\n",
    "\n",
    "Run this to see installed packages and their versions."
   ]
  },
  {
   "cell_type": "code",
   "execution_count": 1,
   "id": "e20109f2",
   "metadata": {},
   "outputs": [
    {
     "name": "stdout",
     "output_type": "stream",
     "text": [
      "PRINT VERSIONS..\n",
      "\n",
      "Python version:              3.9.7.\n",
      "Scikit-learn version:        0.24.2.\n",
      "Keras version:               2.4.3\n",
      "Tensorflow version:          2.4.1\n",
      "Tensorflow.keras version:    2.4.0\n",
      "Opencv2 version:             4.5.1\n",
      "\n",
      "OK\n"
     ]
    }
   ],
   "source": [
    "from libitmal import versions\n",
    "\n",
    "print(\"PRINT VERSIONS..\\n\")\n",
    "versions.Versions()\n",
    "print(\"\\nOK\")"
   ]
  },
  {
   "cell_type": "code",
   "execution_count": 2,
   "id": "bb656cbc-c194-417c-93c3-800ef8cdbd2d",
   "metadata": {},
   "outputs": [
    {
     "name": "stdout",
     "output_type": "stream",
     "text": [
      "\n",
      "PRINT ENVIRONMNETS (only works on a Linux platform)..\n",
      "\n",
      "ENV SETUP:\n",
      "  PATH             = /opt/anaconda-2021.11/bin:/opt/anaconda-2021.11/condabin:/usr/local/sbin:/usr/local/bin:/usr/sbin:/usr/bin:/bin\n",
      "  PYTHONPATH       = \n",
      "  CONDA_ROOT       = /opt/anaconda-2021.11/\n",
      "  CONDA_DEFAULT_ENV= \n",
      "  VIRTUAL_ENV      = \n",
      "  LC_ALL           = \n",
      "  which conda      = /opt/anaconda-2021.11/bin/conda\n",
      "  conda info       = \n",
      "     active environment : None\n",
      "       user config file : /home/cef/.condarc\n",
      " populated config files : /home/cef/.condarc\n",
      "          conda version : 4.12.0\n",
      "    conda-build version : 3.21.5\n",
      "         python version : 3.9.7.final.0\n",
      "       virtual packages : __linux=5.8.0=0\n",
      "                          __glibc=2.31=0\n",
      "                          __unix=0=0\n",
      "                          __archspec=1=x86_64\n",
      "       base environment : /opt/anaconda-2021.11  (read only)\n",
      "      conda av data dir : /opt/anaconda-2021.11/etc/conda\n",
      "  conda av metadata url : None\n",
      "           channel URLs : https://repo.anaconda.com/pkgs/main/linux-64\n",
      "                          https://repo.anaconda.com/pkgs/main/noarch\n",
      "                          https://repo.anaconda.com/pkgs/r/linux-64\n",
      "                          https://repo.anaconda.com/pkgs/r/noarch\n",
      "          package cache : /opt/anaconda-2021.11/pkgs\n",
      "                          /home/cef/.conda/pkgs\n",
      "       envs directories : /home/cef/.conda-2021.11/envs\n",
      "                          /home/cef/.conda/envs\n",
      "                          /opt/anaconda-2021.11/envs\n",
      "               platform : linux-64\n",
      "             user-agent : conda/4.12.0 requests/2.26.0 CPython/3.9.7 Linux/5.8.0-50-generic ubuntu/20.04.3 glibc/2.31\n",
      "                UID:GID : 1000:1000\n",
      "             netrc file : None\n",
      "           offline mode : False\n",
      "\n",
      "  hostname         = leno\n"
     ]
    }
   ],
   "source": [
    "print(\"\\nPRINT ENVIRONMNETS (only works on a Linux platform)..\\n\")\n",
    "\n",
    "! echo \"ENV SETUP:\"\n",
    "! echo \"  PATH             = $PATH\"\n",
    "! echo \"  PYTHONPATH       = $PYTHONPATH\"\n",
    "! echo \"  CONDA_ROOT       = $CONDA_ROOT\"\n",
    "! echo \"  CONDA_DEFAULT_ENV= $CONDA_DEFAULT_ENV\"\n",
    "! echo \"  VIRTUAL_ENV      = $VIRTUAL_ENV\"\n",
    "! echo \"  LC_ALL           = $LC_ALL\"\n",
    "! echo -n \"  which conda      = \" ; which conda\n",
    "! echo -n \"  conda info       = \" ; conda info\n",
    "! echo -n \"  hostname         = \" ; hostname"
   ]
  },
  {
   "cell_type": "markdown",
   "id": "793c2a07",
   "metadata": {},
   "source": [
    "### Missing GPU Support in Tensorflow\n",
    "\n",
    "GPUs are normally detected easily by Tensorflow, you could look for lines like\n",
    "\n",
    "```\n",
    "    Successfully opened dynamic library libcudart.so.10.1\n",
    "``` \n",
    "\n",
    "in the output, when running a Jupyter Notebook from the Anaconda Prompt ala\n",
    "\n",
    "```\n",
    "    > jupyter-notebook \n",
    "```\n",
    "\n",
    "My output (Linux system) produces a OK output like\n",
    "\n",
    "```\n",
    "    2022-03-31 13:39:09.426791: I tensorflow/compiler/jit/xla_cpu_device.cc:41] Not creating XLA devices, tf_xla_enable_xla_devices not set\n",
    "    2022-03-31 13:39:09.427505: I tensorflow/stream_executor/platform/default/dso_loader.cc:49] Successfully opened dynamic library libcuda.so.1\n",
    "    2022-03-31 13:39:09.452592: I tensorflow/stream_executor/cuda/cuda_gpu_executor.cc:941] successful NUMA node read from SysFS had negative value (-1), but there must be at least one NUMA node, so returning NUMA node zero\n",
    "    2022-03-31 13:39:09.452795: I tensorflow/core/common_runtime/gpu/gpu_device.cc:1720] Found device 0 with properties: \n",
    "    pciBusID: 0000:09:00.0 name: NVIDIA GeForce RTX 3090 computeCapability: 8.6\n",
    "    coreClock: 1.695GHz coreCount: 82 deviceMemorySize: 23.69GiB deviceMemoryBandwidth: 871.81GiB/s\n",
    "    2022-03-31 13:39:09.452823: I tensorflow/stream_executor/platform/default/dso_loader.cc:49] Successfully opened dynamic library libcudart.so.10.1\n",
    "    2022-03-31 13:39:09.455163: I tensorflow/stream_executor/platform/default/dso_loader.cc:49] Successfully opened dynamic library libcublas.so.10\n",
    "    2022-03-31 13:39:09.455217: I tensorflow/stream_executor/platform/default/dso_loader.cc:49] Successfully opened dynamic library libcublasLt.so.10\n",
    "    2022-03-31 13:39:09.458319: I tensorflow/stream_executor/platform/default/dso_loader.cc:49] Successfully opened dynamic library libcufft.so.10\n",
    "    2022-03-31 13:39:09.458839: I tensorflow/stream_executor/platform/default/dso_loader.cc:49] Successfully opened dynamic library libcurand.so.10\n",
    "    2022-03-31 13:39:09.461252: I tensorflow/stream_executor/platform/default/dso_loader.cc:49] Successfully opened dynamic library libcusolver.so.10\n",
    "    2022-03-31 13:39:09.462146: I tensorflow/stream_executor/platform/default/dso_loader.cc:49] Successfully opened dynamic library libcusparse.so.10\n",
    "    2022-03-31 13:39:09.465156: I tensorflow/stream_executor/platform/default/dso_loader.cc:49] Successfully opened dynamic library libcudnn.so.7\n",
    "    2022-03-31 13:39:09.465399: I tensorflow/stream_executor/cuda/cuda_gpu_executor.cc:941] successful NUMA node read from SysFS had negative value (-1), but there must be at least one NUMA node, so returning NUMA node zero\n",
    "    2022-03-31 13:39:09.465604: I tensorflow/stream_executor/cuda/cuda_gpu_executor.cc:941] successful NUMA node read from SysFS had negative value (-1), but there must be at least one NUMA node, so returning NUMA node zero\n",
    "    2022-03-31 13:39:09.465685: I tensorflow/core/common_runtime/gpu/gpu_device.cc:1862] Adding visible gpu devices: 0\n",
    "```\n",
    "\n",
    "but if you just see one unsuccessfull opening of a dynamic library ('cannot open shared object'), all GPU support will be disables. This typically manifest itself directly in the Notebook as a Warning\n",
    "\n",
    "```\n",
    "    2022-03-31 13:51:46.925659: W tensorflow/stream_executor/platform/default/dso_loader.cc:64] Could not load dynamic library 'libcuda.so.1'; dlerror: libcuda.so.1: cannot open shared object file: No such file or directory; LD_LIBRARY_PATH: .:/opt/cuda-11.2/lib64:/opt/opencv/opencv4-4.5.1/lib:/opt/pylon5/lib64\n",
    "    2022-03-31 13:51:46.925763: W tensorflow/stream_executor/cuda/cuda_driver.cc:269] failed call to cuInit: UNKNOWN ERROR (303)\n",
    "    2022-03-31 13:51:46.925817: I tensorflow/stream_executor/cuda/cuda_diagnostics.cc:156] kernel driver does not appear to be running on this host (leno): /proc/driver/nvidia/version does not exist\n",
    "```\n",
    "\n",
    "NOTE: does Tensorflow still requires to have the package `tensorflow-gpu` installed or is `tensorflow` sufficient nowadays?\n",
    "\n",
    "### Testing for GPUs\n",
    "\n",
    "Look for inspiration in the python file \n",
    "\n",
    "```libitmal/kernelfuns.py```\n",
    "  \n",
    "and try to call the function \n",
    "\n",
    "```StartupSequence_GPU(verbose=True)```\n",
    "\n",
    "It this still fails, try to create a function, that checks for GPUs ala:"
   ]
  },
  {
   "cell_type": "code",
   "execution_count": 1,
   "id": "ba90ea99",
   "metadata": {},
   "outputs": [
    {
     "name": "stdout",
     "output_type": "stream",
     "text": [
      "MyGPUCheck():..\n",
      "  found 0 GPU device(s)\n",
      "OK\n"
     ]
    },
    {
     "name": "stderr",
     "output_type": "stream",
     "text": [
      "2022-03-31 14:08:21.834532: W tensorflow/stream_executor/platform/default/dso_loader.cc:64] Could not load dynamic library 'libcuda.so.1'; dlerror: libcuda.so.1: cannot open shared object file: No such file or directory; LD_LIBRARY_PATH: .:/opt/cuda-11.2/lib64:/opt/opencv/opencv4-4.5.1/lib:/opt/pylon5/lib64\n",
      "2022-03-31 14:08:21.834582: W tensorflow/stream_executor/cuda/cuda_driver.cc:269] failed call to cuInit: UNKNOWN ERROR (303)\n",
      "2022-03-31 14:08:21.834608: I tensorflow/stream_executor/cuda/cuda_diagnostics.cc:156] kernel driver does not appear to be running on this host (leno): /proc/driver/nvidia/version does not exist\n"
     ]
    }
   ],
   "source": [
    "import tensorflow\n",
    "\n",
    "def MyGPUCheck():\n",
    "    print(\"MyGPUCheck():..\")\n",
    "    physical_devices = tensorflow.config.list_physical_devices('GPU')\n",
    "    n = len(physical_devices)\n",
    "    print(f\"  found {n} GPU device(s)\")    \n",
    "    for i in physical_devices:\n",
    "        print(f\"  {i}\")\n",
    "    print(\"OK\")\n",
    "    \n",
    "MyGPUCheck()"
   ]
  },
  {
   "cell_type": "markdown",
   "id": "7d6393b1",
   "metadata": {},
   "source": [
    "A succefull call to thelist of physical devices may output something like\n",
    "\n",
    "```\n",
    "MyGPUCheck():..\n",
    "  found 1 GPU device(s)\n",
    "  PhysicalDevice(name='/physical_device:GPU:0', device_type='GPU')\n",
    "OK\n",
    "```"
   ]
  }
 ],
 "metadata": {
  "kernelspec": {
   "display_name": "Python 3 (ipykernel)",
   "language": "python",
   "name": "python3"
  },
  "language_info": {
   "codemirror_mode": {
    "name": "ipython",
    "version": 3
   },
   "file_extension": ".py",
   "mimetype": "text/x-python",
   "name": "python",
   "nbconvert_exporter": "python",
   "pygments_lexer": "ipython3",
   "version": "3.9.7"
  }
 },
 "nbformat": 4,
 "nbformat_minor": 5
}
