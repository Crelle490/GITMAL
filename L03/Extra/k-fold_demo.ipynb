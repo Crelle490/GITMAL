{
 "cells": [
  {
   "cell_type": "markdown",
   "metadata": {},
   "source": [
    "# ITMAL L03\n",
    "\n",
    "## K-fold CV demo\n",
    "\n",
    "Code original from\n",
    "\n",
    "* https://scikit-learn.org/stable/modules/generated/sklearn.model_selection.KFold.html?highlight=k%20fold#sklearn.model_selection.KFold"
   ]
  },
  {
   "cell_type": "code",
   "execution_count": 1,
   "metadata": {},
   "outputs": [
    {
     "name": "stdout",
     "output_type": "stream",
     "text": [
      "K-fold CV demo..\n",
      "\n",
      "kf=KFold(n_splits=2, random_state=None, shuffle=False)\n",
      "\n",
      "Splits on X=2\n",
      "\n",
      "  X=[[ 1  2]\n",
      "     [ 3  4]\n",
      "     [ 5  6]\n",
      "     [ 7  8]\n",
      "     [-1 -2]]\n",
      "\n",
      "  y=[1 2 3 4 5]\n",
      "\n",
      "OK\n"
     ]
    }
   ],
   "source": [
    "import numpy as np\n",
    "from sklearn.model_selection import KFold\n",
    "from libitmal import utils as itmalutils\n",
    "\n",
    "X = np.array([[1, 2], [3, 4], [5, 6], [7, 8], [-1, -2]])\n",
    "y = np.array([1, 2, 3, 4, 5])\n",
    "\n",
    "kf = KFold(n_splits=2) # shuffle=True, random_state=42)\n",
    "\n",
    "print(f\"K-fold CV demo..\\n\")\n",
    "print(f\"kf={kf}\\n\")\n",
    "print(f\"Splits on X={kf.get_n_splits(X)}\\n\")\n",
    "\n",
    "def PrintXy(X, y, msg=\"\"):\n",
    "    assert X.ndim==2\n",
    "    assert y.ndim==1\n",
    "    assert X.shape[0]==y.shape[0]\n",
    "    itmalutils.PrintMatrix(X, f\"  X{msg}=\")\n",
    "    print(\"\")\n",
    "    itmalutils.PrintMatrix(y, f\"  y{msg}=\")\n",
    "\n",
    "PrintXy(X, y)\n",
    "print(\"\\nOK\")"
   ]
  },
  {
   "cell_type": "code",
   "execution_count": 2,
   "metadata": {},
   "outputs": [
    {
     "name": "stdout",
     "output_type": "stream",
     "text": [
      "\n",
      "ITERATION:  n=1\n",
      "\n",
      "  TRAIN    indexes: [3 4]\n",
      "  VALIDATE indexes: [0 1 2]\n",
      "\n",
      "  X_train=[[ 7  8]\n",
      "           [-1 -2]]\n",
      "\n",
      "  y_train=[4 5]\n",
      "\n",
      "  X_val  =[[1 2]\n",
      "           [3 4]\n",
      "           [5 6]]\n",
      "\n",
      "  y_val  =[1 2 3]\n",
      "\n",
      "ITERATION:  n=2\n",
      "\n",
      "  TRAIN    indexes: [0 1 2]\n",
      "  VALIDATE indexes: [3 4]\n",
      "\n",
      "  X_train=[[1 2]\n",
      "           [3 4]\n",
      "           [5 6]]\n",
      "\n",
      "  y_train=[1 2 3]\n",
      "\n",
      "  X_val  =[[ 7  8]\n",
      "           [-1 -2]]\n",
      "\n",
      "  y_val  =[4 5]\n"
     ]
    }
   ],
   "source": [
    "n=0\n",
    "for train_index, val_index in kf.split(X):\n",
    "    n += 1\n",
    "    print(f\"\\nITERATION:  n={n}\\n\")\n",
    "    print(f\"  TRAIN    indexes: {train_index}\\n  VALIDATE indexes: {val_index}\\n\")\n",
    " \n",
    "    #print(f\"type(train_index)={type(train_index)},  train_index.dtype={train_index.dtype}\")\n",
    "    \n",
    "    X_train, X_val = X[train_index], X[val_index]\n",
    "    y_train, y_val = y[train_index], y[val_index]\n",
    "    \n",
    "    PrintXy(X_train, y_train, \"_train\")\n",
    "    print()\n",
    "    PrintXy(X_val  , y_val,   \"_val  \")"
   ]
  },
  {
   "cell_type": "markdown",
   "metadata": {},
   "source": [
    "## K-fold Demo"
   ]
  },
  {
   "cell_type": "code",
   "execution_count": 20,
   "metadata": {},
   "outputs": [
    {
     "name": "stdout",
     "output_type": "stream",
     "text": [
      "MNIST keys=dict_keys(['data', 'target', 'frame', 'categories', 'feature_names', 'target_names', 'DESCR', 'details', 'url'])\n"
     ]
    }
   ],
   "source": [
    "print(\"MNIST data get and unpack (slow)..\")\n",
    "from sklearn.datasets import fetch_openml\n",
    "mnist = fetch_openml('mnist_784', version=1)\n",
    "print(f\"  MNIST keys={mnist.keys()}\")"
   ]
  },
  {
   "cell_type": "code",
   "execution_count": 25,
   "metadata": {},
   "outputs": [
    {
     "name": "stdout",
     "output_type": "stream",
     "text": [
      "Design Matrix setup..\n",
      "  X: (70000, 784), y: (70000,)\n",
      "Train/test split..\n",
      "  Train: X: (60000, 784), y: (60000,)\n",
      "  Test : X: (10000, 784), y: (10000,)\n",
      "SGD model setup and train..\n"
     ]
    },
    {
     "data": {
      "text/plain": [
       "SGDClassifier(random_state=42)"
      ]
     },
     "execution_count": 25,
     "metadata": {},
     "output_type": "execute_result"
    }
   ],
   "source": [
    "print(\"Design Matrix setup..\")\n",
    "\n",
    "X, y = mnist[\"data\"], mnist[\"target\"]\n",
    "y = y.astype(np.uint8)\n",
    "\n",
    "print(f\"  X: {X.shape}, y: {y.shape}\")\n",
    "\n",
    "print(\"Train/test split..\")\n",
    "X_train, X_test, y_train, y_test = X[:60000], X[60000:], y[:60000], y[60000:]\n",
    "\n",
    "print(f\"  Train: X: {X_train.shape}, y: {y_train.shape}\")\n",
    "print(f\"  Test : X: {X_test.shape}, y: {y_test_5.shape}\")\n",
    "\n",
    "y_train_5 = (y_train == 5)\n",
    "y_test_5 = (y_test == 5)\n",
    "\n",
    "print(\"SGD model setup and train..\")\n",
    "\n",
    "from sklearn.linear_model import SGDClassifier\n",
    "\n",
    "sgd_clf = SGDClassifier(max_iter=1000, tol=1e-3, random_state=42)\n",
    "sgd_clf.fit(X_train, y_train_5)\n",
    "\n",
    "print(\"OK\")"
   ]
  },
  {
   "cell_type": "code",
   "execution_count": 36,
   "metadata": {},
   "outputs": [
    {
     "name": "stdout",
     "output_type": "stream",
     "text": [
      "  ground_truth=False\n",
      "  predicted   =[False]\n",
      "  ground_truth=True\n",
      "  predicted   =[ True]\n"
     ]
    },
    {
     "data": {
      "image/png": "[encoded data removed]",
      "text/plain": [
       "<Figure size 432x288 with 1 Axes>"
      ]
     },
     "metadata": {
      "needs_background": "light"
     },
     "output_type": "display_data"
    }
   ],
   "source": [
    "%matplotlib inline\n",
    "import matplotlib as mpl\n",
    "import matplotlib.pyplot as plt\n",
    "\n",
    "\n",
    "def plot_digit(data):\n",
    "    image = data.reshape(28, 28)\n",
    "    plt.imshow(image, cmap = mpl.cm.binary,\n",
    "               interpolation=\"nearest\")\n",
    "    plt.axis(\"off\")\n",
    "\n",
    "def TestPredict(n):\n",
    "    some_digit = X_test[n]\n",
    "    ground_truth = y_test_5[n]\n",
    "    \n",
    "    plot_digit(some_digit)\n",
    "    y_pred=sgd_clf.predict([some_digit])\n",
    "    \n",
    "    print(f\"  ground_truth={ground_truth}\")\n",
    "    print(f\"  predicted   ={y_pred}\")\n",
    "    \n",
    "TestPredict(42)\n",
    "TestPredict(45)"
   ]
  },
  {
   "cell_type": "code",
   "execution_count": 68,
   "metadata": {},
   "outputs": [
    {
     "name": "stdout",
     "output_type": "stream",
     "text": [
      "K-fold demo..\n",
      "MyKFoldSplit(clf, X, y, kfolds=18)..\n",
      "  FOLD  0: accuracy=0.96, precision=0.80, recall=0.81, F1=0.81\n",
      "  FOLD  1: accuracy=0.97, precision=0.86, recall=0.77, F1=0.82\n",
      "  FOLD  2: accuracy=0.97, precision=0.89, recall=0.81, F1=0.85\n",
      "  FOLD  3: accuracy=0.96, precision=0.79, recall=0.76, F1=0.77\n",
      "  FOLD  4: accuracy=0.95, precision=0.69, recall=0.90, F1=0.78\n",
      "  FOLD  5: accuracy=0.97, precision=0.90, recall=0.78, F1=0.83\n",
      "  FOLD  6: accuracy=0.96, precision=0.77, recall=0.79, F1=0.78\n",
      "  FOLD  7: accuracy=0.97, precision=0.90, recall=0.74, F1=0.81\n",
      "  FOLD  8: accuracy=0.97, precision=0.89, recall=0.72, F1=0.80\n",
      "  FOLD  9: accuracy=0.96, precision=0.80, recall=0.78, F1=0.79\n",
      "  FOLD 10: accuracy=0.93, precision=0.59, recall=0.90, F1=0.71\n",
      "  FOLD 11: accuracy=0.97, precision=0.88, recall=0.75, F1=0.81\n",
      "  FOLD 12: accuracy=0.94, precision=0.63, recall=0.87, F1=0.73\n",
      "  FOLD 13: accuracy=0.97, precision=0.86, recall=0.76, F1=0.81\n",
      "  FOLD 14: accuracy=0.94, precision=0.64, recall=0.88, F1=0.74\n",
      "  FOLD 15: accuracy=0.94, precision=0.95, recall=0.35, F1=0.51\n",
      "  FOLD 16: accuracy=0.97, precision=0.83, recall=0.85, F1=0.84\n",
      "  FOLD 17: accuracy=0.96, precision=0.81, recall=0.66, F1=0.73\n",
      "Final test scores..\n",
      "  accuracy=0.95, precision=0.66, recall=0.88, F1=0.76\n",
      "OK\n"
     ]
    }
   ],
   "source": [
    "from sklearn.model_selection import StratifiedKFold\n",
    "from sklearn.base import clone\n",
    "from sklearn.metrics import accuracy_score, precision_score, recall_score, f1_score\n",
    "\n",
    "def PrintScores(y_true, y_pred, i):\n",
    "    assert y_true.shape == y_pred.shape, f\"mismatch in shapes, y_true.shape={y_true.shape}, y_pred.shape={y_pred.shape}\"\n",
    "    a = accuracy_score (y_true, y_pred)\n",
    "    p = precision_score(y_true, y_pred)\n",
    "    r = recall_score   (y_true, y_pred)\n",
    "    F1= f1_score       (y_true, y_pred)\n",
    "    prefix = f\"FOLD {i:2d}: \" if i>=0 else \"\" \n",
    "    print(f\"  {prefix}accuracy={a:.2f}, precision={p:.2f}, recall={r:.2f}, F1={F1:.2f}\")\n",
    "\n",
    "def MyKFoldSplit(clf, X, y, kfolds=3):\n",
    "\n",
    "    print(f\"MyKFoldSplit(clf, X, y, kfolds={kfolds})..\")\n",
    "    skfolds = StratifiedKFold(n_splits=kfolds, random_state=42, shuffle=True)\n",
    "    \n",
    "    i=0\n",
    "    for train_index, val_index in skfolds.split(X, y):\n",
    "        clone_clf = clone(clf)\n",
    "        \n",
    "        X_train_folds = X[train_index]\n",
    "        y_train_folds = y[train_index]\n",
    "        X_val_fold    = X[val_index]\n",
    "        y_val_fold    = y[val_index]\n",
    "\n",
    "        clone_clf.fit(X_train_folds, y_train_folds)\n",
    "\n",
    "        y_pred = clone_clf.predict(X_val_fold)\n",
    "\n",
    "        PrintScores(y_val_fold, y_pred, i)\n",
    "        i += 1\n",
    "\n",
    "        #n_correct = sum(y_pred == y_val_fold)\n",
    "        #print(n_correct / len(y_pred)) \n",
    "        #\n",
    "        # My    : print  0.95035 0.96035 and 0.9604\n",
    "        # Gereon: prints 0.9502, 0.96565 and 0.96495\n",
    "        \n",
    "print(\"K-fold demo..\")\n",
    "MyKFoldSplit(sgd_clf, X_train, y_train_5, 18)\n",
    "print(\"OK\")"
   ]
  },
  {
   "cell_type": "code",
   "execution_count": 69,
   "metadata": {},
   "outputs": [
    {
     "name": "stdout",
     "output_type": "stream",
     "text": [
      "Final test scores..\n",
      "  train yet a model with all train data..\n",
      "  predict on test data..\n",
      "  accuracy=0.95, precision=0.66, recall=0.88, F1=0.76\n",
      "OK\n"
     ]
    }
   ],
   "source": [
    "print(\"Final test scores..\")\n",
    "\n",
    "print(\"  train yet a model with all train data..\")\n",
    "sgd_clf.fit(X_train, y_train_5)        \n",
    "\n",
    "print(\"  predict on test data..\")\n",
    "y_test_5_pred = sgd_clf.predict(X_test)\n",
    "PrintScores(y_test_5, y_test_5_pred, -1)\n",
    "\n",
    "print(\"OK\")"
   ]
  }
 ],
 "metadata": {
  "kernelspec": {
   "display_name": "Python 3",
   "language": "python",
   "name": "python3"
  },
  "language_info": {
   "codemirror_mode": {
    "name": "ipython",
    "version": 3
   },
   "file_extension": ".py",
   "mimetype": "text/x-python",
   "name": "python",
   "nbconvert_exporter": "python",
   "pygments_lexer": "ipython3",
   "version": "3.8.5"
  },
  "varInspector": {
   "cols": {
    "lenName": 16,
    "lenType": 16,
    "lenVar": 40
   },
   "kernels_config": {
    "python": {
     "delete_cmd_postfix": "",
     "delete_cmd_prefix": "del ",
     "library": "var_list.py",
     "varRefreshCmd": "print(var_dic_list())"
    },
    "r": {
     "delete_cmd_postfix": ") ",
     "delete_cmd_prefix": "rm(",
     "library": "var_list.r",
     "varRefreshCmd": "cat(var_dic_list()) "
    }
   },
   "types_to_exclude": [
    "module",
    "function",
    "builtin_function_or_method",
    "instance",
    "_Feature"
   ],
   "window_display": true
  }
 },
 "nbformat": 4,
 "nbformat_minor": 4
}
