{
 "cells": [
  {
   "cell_type": "markdown",
   "metadata": {},
   "source": [
    "# ITMAL Exercise\n",
    "\n",
    "\n",
    "## The E.T. and Gradient Descent for Linear Regression\n",
    "\n",
    "<img src=\"https://itundervisning.ase.au.dk/GITMAL/L05/Figs/et.jpg\" alt=\"WARNING: image could not be fetched\" style=\"height:250px\">\n",
    "\n",
    "The Good News is that aliens are here, yes, really! The Bad News is that You are assigned teacher for one Extra-Terrestial _creature_.\n",
    "\n",
    "Your task is to create a document (journal) for the _creature_, explaining all about Gradient Descent related to the linear regression model.\n",
    "\n",
    "The _creature_ needs about four, max. six normal pages of text otherwise it becomes very grumpy like a Gremlin.\n",
    "\n",
    "However, the _creature_ likes reading code and math and examining beutifull plots, so code sections, math and plots do not count into the max normal-page limit.\n",
    "\n",
    "As you job of being an E.T.-teacher, You must cover Gradient Decent for a simple Linear Regression model with at least the following concepts:\n",
    "\n",
    "* Linear Regression model prediction in vectorized form\n",
    "* MSE cost function for a Linear Regression model\n",
    "* Closed-form solution (normal equation)\n",
    "* Numerical gradient decent\n",
    "    * Batch Gradient Descent\n",
    "    * Stochastic Gradient Descent\n",
    "    * Learning rates\n",
    "\n",
    "Feel free to add additional Gradient Decent concepts, but remember to keep the text You submit below max. six pages (exluding plot, code and math).\n",
    "\n",
    "Note that you could peek into the other notebooks for this lesson, copying math, code, and plots from these are allowed.\n",
    "\n",
    "(Once submitted as a hand-in in Brightspace, I will forward it to the E.T., but expect no direct feedback from the _creature_..)"
   ]
  },
  {
   "cell_type": "code",
   "execution_count": 2,
   "metadata": {},
   "outputs": [],
   "source": [
    "# TODO: Your GD documentation for the E.T."
   ]
  },
  {
   "cell_type": "markdown",
   "metadata": {},
   "source": [
    "REVISIONS| |\n",
    "---------| |\n",
    "2021-0926| CEF, initial."
   ]
  }
 ],
 "metadata": {
  "kernelspec": {
   "display_name": "Python 3",
   "language": "python",
   "name": "python3"
  },
  "language_info": {
   "codemirror_mode": {
    "name": "ipython",
    "version": 3
   },
   "file_extension": ".py",
   "mimetype": "text/x-python",
   "name": "python",
   "nbconvert_exporter": "python",
   "pygments_lexer": "ipython3",
   "version": "3.8.5"
  },
  "varInspector": {
   "cols": {
    "lenName": 16,
    "lenType": 16,
    "lenVar": 40
   },
   "kernels_config": {
    "python": {
     "delete_cmd_postfix": "",
     "delete_cmd_prefix": "del ",
     "library": "var_list.py",
     "varRefreshCmd": "print(var_dic_list())"
    },
    "r": {
     "delete_cmd_postfix": ") ",
     "delete_cmd_prefix": "rm(",
     "library": "var_list.r",
     "varRefreshCmd": "cat(var_dic_list()) "
    }
   },
   "types_to_exclude": [
    "module",
    "function",
    "builtin_function_or_method",
    "instance",
    "_Feature"
   ],
   "window_display": true
  }
 },
 "nbformat": 4,
 "nbformat_minor": 4
}
