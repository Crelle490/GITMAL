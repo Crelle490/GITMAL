{
 "cells": [
  {
   "cell_type": "markdown",
   "metadata": {},
   "source": [
    "# ITMAL Demo\n",
    "\n",
    "## Installing Keras and Tensorflow for Anaconda 2021.11\n",
    "\n",
    "REVISIONS| |\n",
    "---------| |\n",
    "2018-03-25| CEF, initial.\n",
    "2020-03-05| CEF, F20 ITMAL update.\n",
    "2020-03-06| CEF, investigated Anaconda 2019.10 on Windows and updated GPU server notes.\n",
    "2021-10-12| CEF, updated for ITMAL E21.\n",
    "2022-03-23| CEF, updated for SWMAL F22, rewrote install method for Keras via environments.\n",
    "2022-03-25| CEF, elaboreated on conda and pip, and added pip install and screenshots.\n",
    "\n",
    "### About Anaconda Package Managers\n",
    "\n",
    "Anaconda comes with two different package managers: `conda` and `pip`\n",
    "\n",
    "* `conda` is the prefered package manager, that will check new package installation for compability with existing packages. While this pre-compability-check is nice in theory, it often turns out, that it becomes impossible to install a given package due to incompabilities with one or more other packages. Even more annoing, the simple install of a package may take hours to complete.\n",
    "\n",
    "* `pip` is a simpler package mangager, that comes with most Python distributions. It does none of the compability-checks when installing; it just installs whatever you ask it to (and incompabilites may then creep in in the run-time enviroment).\n",
    "\n",
    "Normally you would try to install whatever you need via `conda` and when it breaks down due to to many broken dependencies (trying with 'flexible solve' etc. for hours), you just continue with `pip`.\n",
    "\n",
    "### installing Keras via CONDA\n",
    "\n",
    "Keras will not install under Anaconda version 2021.11. It ends up in a endless package-conflict, when installing under `conda`.\n",
    "\n",
    "<img src=\"https://itundervisning.ase.au.dk/SWMAL/L06/Figs/Screenshot_conda_install_keras_tensorflow_conflicts.png\" alt=\"WARNING: could not get image from server.\" style=\"height:250px\" style=\"width:350px\">\n",
    "\n",
    "(This is a new finding for the particular version 2021.11, and previous version did not have this tensorflow install problem, but typically only a Keras install problem).\n",
    "\n",
    "The root-cause of the problem must be missing check when packageing the Anaconda, failing to find the set of conflicts we see, when installing `tensorflow` in the set of default installe packages that comes with the Anaconda distribution.\n",
    "\n",
    "#### 1) Prepare and Ceate a new Environment\n",
    "\n",
    "So, one solution is to create a new conda environment, and from this install `scikit-learn` and `tensorflow` and `keras`,\n",
    "\n",
    "Later we need a package called `nb_conda_kernels`, let us install this before we create and activate the new enviroment\n",
    "\n",
    "```bash\n",
    "(base)> conda install nb_conda_kernels\n",
    "\n",
    "```\n",
    "\n",
    "Now, let us call our enviroment `swmal` and create it by running\n",
    "\n",
    "```bash\n",
    "(base)> conda create --name swmal\n",
    "```\n",
    "\n",
    "<img src=\"https://itundervisning.ase.au.dk/SWMAL/L06/Figs/Screenshot_conda_install_keras_tensorflow_create_env.png\" alt=\"WARNING: could not get image from server.\" style=\"height:250px\" style=\"width:350px\">\n",
    "\n",
    "and then activate it via\n",
    "\n",
    "```bash\n",
    "(base)> conda activate swmal\n",
    "```\n",
    "\n",
    "<img src=\"https://itundervisning.ase.au.dk/SWMAL/L06/Figs/Screenshot_conda_install_keras_tensorflow_activate_env.png\" alt=\"WARNING: could not get image from server.\" style=\"height:250px\" style=\"width:350px\">\n",
    "\n",
    "#### 2) Install Needed Packages \n",
    "\n",
    "Now we got a clean state enviroment and we need to install the packages needed for `scikit-learn` and  `tensorflow`, but this is as easy as\n",
    "\n",
    "```bash\n",
    "(swmal)> conda install scikit-learn tensorflow keras nb_conda_kernels\n",
    "```\n",
    "\n",
    "<img src=\"https://itundervisning.ase.au.dk/SWMAL/L06/Figs/Screenshot_conda_install_keras_tensorflow_installing.png\" alt=\"WARNING: could not get image from server.\" style=\"height:250px\" style=\"width:350px\">\n",
    "\n",
    "Notice that the package `nb_conda_kernels` also needs to be installed in this new enviroment, and it actually also installes the jupyter notebook packages.\n",
    "\n",
    "#### 3) Launching Jupyter-Notebooks in the new Enviroment\n",
    "\n",
    "There are two `keras` interfaces, the stand-alone `keras`, and then a similar interface already build into `tensorflow.keras`. You could use both, but direct access via the stand-alone inteface may be the most obvious.\n",
    "\n",
    "```bash\n",
    "(swmal)> jupyter-notebook\n",
    "```\n",
    "\n",
    "<img src=\"https://itundervisning.ase.au.dk/SWMAL/L06/Figs/Screenshot_conda_install_keras_tensorflow_notebook.png\" alt=\"WARNING: could not get image from server.\" style=\"height:250px\" style=\"width:350px\">\n",
    "\n",
    "\n",
    "#### 4) Testing the New Enviroment Setup\n",
    "\n",
    "Lets see the version installed in the new `swmal` environment via the `Versions()` function found in the `itmallib`"
   ]
  },
  {
   "cell_type": "code",
   "execution_count": 1,
   "metadata": {},
   "outputs": [
    {
     "name": "stdout",
     "output_type": "stream",
     "text": [
      "Python version:              3.9.7.\n",
      "Scikit-learn version:        1.0.2.\n",
      "Keras version:               2.6.0\n",
      "Tensorflow version:          2.6.0\n",
      "Tensorflow.keras version:    2.6.0\n",
      "Opencv2 version:             4.5.5\n"
     ]
    }
   ],
   "source": [
    "from libitmal import versions\n",
    "versions.Versions()"
   ]
  },
  {
   "cell_type": "markdown",
   "metadata": {},
   "source": [
    "The `Versions()` function should print whatever version you installed, or produce a warning, if the package is not installed at all. \n",
    "\n",
    "For my current Windows/Anaconda setup I got the versions, Yours may differ slightly\n",
    "\n",
    "```\n",
    "Python version:              3.9.7.\n",
    "Scikit-learn version:        1.0.2.\n",
    "Keras version:               2.6.0\n",
    "Tensorflow version:          2.6.0\n",
    "Tensorflow.keras version:    2.6.0\n",
    "```\n",
    "\n",
    "#### 5) Wrapping It All Up in a BAT File\n",
    "\n",
    "To make development easy, a BAT (Windows batch or script file) shold be created. This should ease the launch of Jupyter-Notebooks and the BAT file could be put in a icon placed on the taskbar or similar.\n",
    "\n",
    "The BAT-file should contain the followin text lines, an notice that you must changex\n",
    "\n",
    "```\n",
    "ECHO OFF\n",
    "\n",
    "REM my-jupyter-notebook\n",
    "REM  Version: 0.1\n",
    "REM    2022-03-23: CEF, inital version\n",
    "\n",
    "echo MY-JUPYTER-NOTEBOOK launcher..\n",
    "\n",
    "SET USER=au204573\n",
    "\n",
    "@CALL \"%C:\\Users\\%USER%\\Anaconda3\\condabin\\conda.bat\" activate swmal %*\n",
    "\n",
    "REM note book start in this directory, you may change it:\n",
    "cd \\\n",
    "\n",
    "jupyter-notebook\n",
    "\n",
    "echo DONE\n",
    "```"
   ]
  },
  {
   "cell_type": "markdown",
   "metadata": {},
   "source": [
    "### Installing Keras via PIP\n",
    "\n",
    "If `conda` fails, or you just want to proceede quickly, then install everything in the base environment via pip\n",
    "\n",
    "```bash\n",
    "> pip install keras tensorflow\n",
    "\n",
    "```\n",
    "\n",
    "<img src=\"https://itundervisning.ase.au.dk/SWMAL/L06/Figs/Screenshot_pip_install_tensorflow.png\n",
    "\" alt=\"WARNING: could not get image from server.\" style=\"height:250px\" style=\"width:350px\">\n",
    "\n",
    "and then just launch the jupyter-notebook in the default (base) environment.\n",
    "\n",
    "NOTE: this pip install needs testing and verification --- please report if it does not work on your PC!"
   ]
  }
 ],
 "metadata": {
  "kernelspec": {
   "display_name": "Python [conda env:.conda-swmal-tf]",
   "language": "python",
   "name": "conda-env-.conda-swmal-tf-py"
  },
  "language_info": {
   "codemirror_mode": {
    "name": "ipython",
    "version": 3
   },
   "file_extension": ".py",
   "mimetype": "text/x-python",
   "name": "python",
   "nbconvert_exporter": "python",
   "pygments_lexer": "ipython3",
   "version": "3.9.7"
  },
  "varInspector": {
   "cols": {
    "lenName": 16,
    "lenType": 16,
    "lenVar": 40
   },
   "kernels_config": {
    "python": {
     "delete_cmd_postfix": "",
     "delete_cmd_prefix": "del ",
     "library": "var_list.py",
     "varRefreshCmd": "print(var_dic_list())"
    },
    "r": {
     "delete_cmd_postfix": ") ",
     "delete_cmd_prefix": "rm(",
     "library": "var_list.r",
     "varRefreshCmd": "cat(var_dic_list()) "
    }
   },
   "types_to_exclude": [
    "module",
    "function",
    "builtin_function_or_method",
    "instance",
    "_Feature"
   ],
   "window_display": true
  }
 },
 "nbformat": 4,
 "nbformat_minor": 2
}
