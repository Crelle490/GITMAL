{
 "cells": [
  {
   "cell_type": "markdown",
   "id": "e255e646-1ecd-4039-9d7a-08ade6fdd477",
   "metadata": {},
   "source": [
    "# SWMAL\n",
    "\n",
    "## Setup of Yolov5 on GPU Cluster\n",
    "\n",
    "Most packages are ready on the GPU Cluster when you are running under an Anaconda 2021.11.\n",
    "\n",
    "We can finalize your setup both first cloning the Yolov5 git-repository"
   ]
  },
  {
   "cell_type": "code",
   "execution_count": 1,
   "id": "8c5a2629-c4a8-4860-b904-5e40e6bd3cf6",
   "metadata": {},
   "outputs": [
    {
     "name": "stdout",
     "output_type": "stream",
     "text": [
      "Cloning into 'yolov5'...\n",
      "remote: Enumerating objects: 12390, done.\u001b[K\n",
      "remote: Counting objects: 100% (7/7), done.\u001b[K\n",
      "remote: Compressing objects: 100% (6/6), done.\u001b[K\n",
      "remote: Total 12390 (delta 1), reused 7 (delta 1), pack-reused 12383\u001b[K\n",
      "Receiving objects: 100% (12390/12390), 11.56 MiB | 6.82 MiB/s, done.\n",
      "Resolving deltas: 100% (8620/8620), done.\n"
     ]
    }
   ],
   "source": [
    "! (test ! -d yolov5 && git clone https://github.com/ultralytics/yolov5) || echo \"Git-repository already cloned..\""
   ]
  },
  {
   "cell_type": "markdown",
   "id": "8dc588fa-ba32-4dc4-8a75-5b5564a2f12a",
   "metadata": {},
   "source": [
    "and then `pip` installing the missing packages (that are incompatible with a `conda` install). \n",
    "\n",
    "First we install a specific set of packages for the `torch` framework that will work with even the newest GPUs (3090 RTX), and let this run for about 2 to 15 min (its slow to install):"
   ]
  },
  {
   "cell_type": "code",
   "execution_count": null,
   "id": "55858395-7d66-49db-9623-7ab13c802897",
   "metadata": {},
   "outputs": [
    {
     "name": "stdout",
     "output_type": "stream",
     "text": [
      "Defaulting to user installation because normal site-packages is not writeable\n",
      "Looking in links: https://download.pytorch.org/whl/torch_stable.html\n"
     ]
    }
   ],
   "source": [
    "! pip install torch==1.10.1+cu111 torchvision==0.11.2+cu111 torchaudio==0.10.1 -f https://download.pytorch.org/whl/torch_stable.html"
   ]
  },
  {
   "cell_type": "markdown",
   "id": "80c819bd-5b68-4f3c-b8e2-9c981e122a50",
   "metadata": {},
   "source": [
    "The we `pip` install whatever packages, that Yolov5 still needs  (since they are still incompatible with a `conda` install):"
   ]
  },
  {
   "cell_type": "code",
   "execution_count": null,
   "id": "16e7eab7-c847-4ff4-bc8c-ca34bb42df1b",
   "metadata": {},
   "outputs": [],
   "source": [
    "! pip install -r yolov5_swmal_requirements.txt"
   ]
  },
  {
   "cell_type": "markdown",
   "id": "c242e453-49c0-4455-aab8-72297ed4e98e",
   "metadata": {},
   "source": [
    "You should now have the reqired setup for Yolov5, and I took care of installing specific GPU libraries needed for running Yolov5 on even the newest GPUs (3090). \n",
    "\n",
    "The user installed packages (found in you `~/.local/lib/python3.9/site-packages/` dir) now looks like:"
   ]
  },
  {
   "cell_type": "code",
   "execution_count": null,
   "id": "75a7580f-b3f2-4942-8234-053120ad313b",
   "metadata": {},
   "outputs": [],
   "source": [
    "! pip list --user\n",
    "! echo ; echo \"DIR of local packages..\" ; echo\n",
    "! ls ~/.local/lib/python3.9/site-packages/"
   ]
  },
  {
   "cell_type": "markdown",
   "id": "510d57eb-399c-4704-90f3-a4efd4bd3a3e",
   "metadata": {},
   "source": [
    "An now you can test out a demo of Yolov5 -- one that predicts on the image `Figs/zidane.jpg`.\n",
    "\n",
    "If succefull an output prediction image will be placed in the `temp.jpg/` folder."
   ]
  },
  {
   "cell_type": "code",
   "execution_count": null,
   "id": "cac6ad2d-5e41-4131-94e5-476b8ba41d91",
   "metadata": {},
   "outputs": [],
   "source": [
    "#!/usr/bin/env python3\n",
    "\n",
    "import torch\n",
    "import sys\n",
    "\n",
    "def Versions():\n",
    "    print(\"VERSIONS:\")\n",
    "    print(f\"  _sys.version                             = { sys.version}\")\n",
    "    print(f\"  torch.__version__                        = {torch.__version__}\")\n",
    "    print(f\"  torch.cuda.is_available()                = {torch.cuda.is_available()}\")\n",
    "    print(f\"  torch.backends.cudnn.enabled             = {torch.backends.cudnn.enabled}\")\n",
    "    device = torch.device(\"cuda\")\n",
    "    print(f\"  torch.cuda.get_device_properties(device) = {torch.cuda.get_device_properties(device)}\")\n",
    "    print(f\"  torch.tensor([1.0, 2.0]).cuda()          = {torch.tensor([1.0, 2.0]).cuda()}\")\n",
    "\n",
    "def PredictDemo():\n",
    "    # Model\n",
    "    model = torch.hub.load('ultralytics/yolov5', 'yolov5s')  # or yolov5m, yolov5l, yolov5x, custom\n",
    "\n",
    "    # Images\n",
    "    #img = 'https://ultralytics.com/images/zidane.jpg'  # or file, Path, PIL, OpenCV, numpy, list\n",
    "    img = 'Figs/zidane.jpg'\n",
    "\n",
    "    # Inference\n",
    "    results = model(img)\n",
    "\n",
    "    # Results\n",
    "    results.print()  # or .show(), .save(), .crop(), .pandas(), etc.\n",
    "    #results.show()\n",
    "    results.save('temp.jpg')\n",
    "    \n",
    "Versions()\n",
    "PredictDemo()\n",
    "\n",
    "print(\"OK\")"
   ]
  }
 ],
 "metadata": {
  "kernelspec": {
   "display_name": "Python 3 (ipykernel)",
   "language": "python",
   "name": "python3"
  },
  "language_info": {
   "codemirror_mode": {
    "name": "ipython",
    "version": 3
   },
   "file_extension": ".py",
   "mimetype": "text/x-python",
   "name": "python",
   "nbconvert_exporter": "python",
   "pygments_lexer": "ipython3",
   "version": "3.9.7"
  }
 },
 "nbformat": 4,
 "nbformat_minor": 5
}
