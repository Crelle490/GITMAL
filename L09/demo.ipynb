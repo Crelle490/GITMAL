{
 "cells": [
  {
   "cell_type": "markdown",
   "metadata": {},
   "source": [
    "# ITMAL Notebook\n",
    "\n",
    "## Quickstart demo..\n",
    "\n",
    "REVISIONS| |\n",
    "---------| |\n",
    "2018-????| CEF, initial.\n",
    "2021-0407| CEF, updated, added header text and long-running section."
   ]
  },
  {
   "cell_type": "markdown",
   "metadata": {},
   "source": [
    "### Get ITMAL GIT repository\n",
    "\n",
    "Clone [GITMAL] via the shell command '!'.."
   ]
  },
  {
   "cell_type": "code",
   "execution_count": null,
   "metadata": {},
   "outputs": [],
   "source": [
    "! test -d ~/itmal || (echo \"Cloning GITMAL..\" && git clone https://cfrigaard@bitbucket.org/cfrigaard/itmal)\n",
    "! cd ~/itmal && git pull"
   ]
  },
  {
   "cell_type": "markdown",
   "metadata": {},
   "source": [
    "### Test Python Paths\n",
    "\n",
    "This cell just test if the startup-sequence has been run..\n",
    "\n",
    "(startup-sequence placed in `~/.ipython/profile_default/startup /00_init.py`, that is a softlink to `/home/shared/00_init.py`.)"
   ]
  },
  {
   "cell_type": "code",
   "execution_count": null,
   "metadata": {},
   "outputs": [],
   "source": [
    "import sys\n",
    "p=sys.path\n",
    "print(f\"Your current path=\")\n",
    "\n",
    "itmal_found_in_path=False\n",
    "for i in p:\n",
    "    print(f\"    {i}\")\n",
    "    n=i.find(\"/itmal\")\n",
    "    if n>0:\n",
    "        itmal_found_in_path=True\n",
    "    \n",
    "assert itmal_found_in_path, \"ups, 'itmal' dir not present in system path...you are in trouble!\"\n",
    "print(\"OK\")"
   ]
  },
  {
   "cell_type": "markdown",
   "metadata": {},
   "source": [
    "### Test ITMAL library\n",
    "\n",
    "Now, import some functions form 'libitmal'.."
   ]
  },
  {
   "cell_type": "code",
   "execution_count": null,
   "metadata": {},
   "outputs": [],
   "source": [
    "from libitmal import versions as ver \n",
    "ver.Versions()"
   ]
  },
  {
   "cell_type": "markdown",
   "metadata": {},
   "source": [
    "If it went well, you should see version like\n",
    "\n",
    "```Python version:              3.8.3.\n",
    "Scikit-learn version:        0.23.1.\n",
    "Keras version:               2.4.3\n",
    "Tensorflow version:          2.2.0\n",
    "Tensorflow.keras version:    2.3.0-tf```"
   ]
  },
  {
   "cell_type": "markdown",
   "metadata": {},
   "source": [
    "### Long-running cells in JupyterHub\n",
    "\n",
    "...and how to capture output from 'em after closing Your browser or Your VPN connection.\n",
    "\n",
    "### Step 1\n",
    "\n",
    "First use the `%%capture` magic command in a long-running cell---the cell below also sets the 'done' flag to false.\n",
    "\n",
    "### Step 2\n",
    "\n",
    "Run the cell, and close you browser."
   ]
  },
  {
   "cell_type": "code",
   "execution_count": null,
   "metadata": {},
   "outputs": [],
   "source": [
    "%%capture output\n",
    "\n",
    "import time\n",
    "\n",
    "t=20\n",
    "done=False # \n",
    "print(\"Jupyter Hub test..\")\n",
    "print(f\"  long running cell, sleep for {t} seconds..\")\n",
    "\n",
    "print(f\"  beg: {time.ctime()}\")\n",
    "time.sleep(t)\n",
    "print(f\"  end: {time.ctime()}\")\n",
    "done=True"
   ]
  },
  {
   "cell_type": "markdown",
   "metadata": {},
   "source": [
    "### Step 3\n",
    "\n",
    "Finally come back to the node you launched the long-running cell on and see if the `done` flag is marked as `True`, then the captured output can be printed, see this in the second cell"
   ]
  },
  {
   "cell_type": "code",
   "execution_count": null,
   "metadata": {},
   "outputs": [],
   "source": [
    "#print(f\"done={done}\")\n",
    "\n",
    "if done:\n",
    "    output.show() # displays captured output\n",
    "else:\n",
    "    print(\"cell above still seem to be running, wait some more..\")"
   ]
  }
 ],
 "metadata": {
  "kernelspec": {
   "display_name": "Python 3",
   "language": "python",
   "name": "python3"
  },
  "language_info": {
   "codemirror_mode": {
    "name": "ipython",
    "version": 3
   },
   "file_extension": ".py",
   "mimetype": "text/x-python",
   "name": "python",
   "nbconvert_exporter": "python",
   "pygments_lexer": "ipython3",
   "version": "3.8.5"
  },
  "varInspector": {
   "cols": {
    "lenName": 16,
    "lenType": 16,
    "lenVar": 40
   },
   "kernels_config": {
    "python": {
     "delete_cmd_postfix": "",
     "delete_cmd_prefix": "del ",
     "library": "var_list.py",
     "varRefreshCmd": "print(var_dic_list())"
    },
    "r": {
     "delete_cmd_postfix": ") ",
     "delete_cmd_prefix": "rm(",
     "library": "var_list.r",
     "varRefreshCmd": "cat(var_dic_list()) "
    }
   },
   "types_to_exclude": [
    "module",
    "function",
    "builtin_function_or_method",
    "instance",
    "_Feature"
   ],
   "window_display": true
  }
 },
 "nbformat": 4,
 "nbformat_minor": 4
}
